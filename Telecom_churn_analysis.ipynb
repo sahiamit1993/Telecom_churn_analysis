{
  "nbformat": 4,
  "nbformat_minor": 0,
  "metadata": {
    "colab": {
      "private_outputs": true,
      "provenance": [],
      "collapsed_sections": [
        "vncDsAP0Gaoa",
        "FJNUwmbgGyua",
        "w6K7xa23Elo4",
        "yQaldy8SH6Dl",
        "mDgbUHAGgjLW",
        "x71ZqKXriCWQ",
        "7hBIi_osiCS2",
        "JlHwYmJAmNHm",
        "35m5QtbWiB9F",
        "PoPl-ycgm1ru",
        "H0kj-8xxnORC",
        "nA9Y7ga8ng1Z",
        "u3PMJOP6ngxN",
        "bKJF3rekwFvQ",
        "MSa1f5Uengrz",
        "0wOQAZs5pc--",
        "KSlN3yHqYklG",
        "EM7whBJCYoAo",
        "4Of9eVA-YrdM",
        "bamQiAODYuh1",
        "OH-pJp9IphqM",
        "PIIx-8_IphqN",
        "BZR9WyysphqO",
        "YJ55k-q6phqO",
        "U2RJ9gkRphqQ",
        "x-EpHcCOp1ci",
        "n3dbpmDWp1ck",
        "Ag9LCva-p1cl",
        "NC_X3p0fY2L0",
        "JcMwzZxoAimU",
        "gIfDvo9L0UH2"
      ],
      "cell_execution_strategy": "setup"
    },
    "kernelspec": {
      "name": "python3",
      "display_name": "Python 3"
    },
    "language_info": {
      "name": "python"
    }
  },
  "cells": [
    {
      "cell_type": "markdown",
      "source": [
        "# **Project Name**    -\n",
        "\n"
      ],
      "metadata": {
        "id": "vncDsAP0Gaoa"
      }
    },
    {
      "cell_type": "markdown",
      "source": [
        "##### **Project Type**    - EDA/Regression/Classification/Unsupervised\n",
        "##### **Contribution**    - Individual\n",
        "##### **Name**            - Amit Kumar\n"
      ],
      "metadata": {
        "id": "beRrZCGUAJYm"
      }
    },
    {
      "cell_type": "markdown",
      "source": [
        "# **Project Summary -**"
      ],
      "metadata": {
        "id": "FJNUwmbgGyua"
      }
    },
    {
      "cell_type": "markdown",
      "source": [
        "# **Project Summary: Telecom Churn Analysis**\n",
        "Telecom churn analysis is a critical task for telecom companies to identify and understand customer behavior patterns that lead to churn. Churn, also known as customer attrition, occurs when customers switch to competitors' services, resulting in lost revenue and market share. This project aims to analyze a telecom dataset and develop a predictive model to identify customers at risk of churning.\n",
        "The dataset provided contains various features that offer valuable insights into customer behavior. The features include \"State,\" \"Account length,\" \"Area code,\" \"International plan,\" \"Voice mail plan,\" \"Number vmail messages,\" \"Total day minutes,\" \"Total day calls,\" \"Total day charge,\" \"Total eve minutes,\" \"Total eve calls,\" \"Total eve charge,\" \"Total night minutes,\" \"Total night calls,\" \"Total night charge,\" \"Total international minutes,\" \"Total international calls,\" \"Total international charge,\" \"Customer service calls,\" and the target variable \"Churn.\"\n",
        "The initial step in the project involved data exploration and preprocessing. The dataset was loaded and checked for any missing values. Categorical variables, such as \"State,\" \"International plan,\" and \"Voice mail plan,\" were converted into numerical representations using one-hot encoding. Outliers, if any, were identified and handled appropriately.\n",
        "Data visualization techniques were employed to gain deeper insights into the dataset. Histograms, box plots, and correlation matrices were plotted to understand the distribution of numerical variables and explore relationships between features. These visualizations provided a comprehensive understanding of the dataset, enabling the identification of patterns related to churn.\n",
        "Feature engineering was an essential step to derive meaningful insights from the available data. New features were created, such as the combined total charge for the entire day, which provided additional information to improve the model's predictive power.\n",
        "For the churn prediction model, various machine learning algorithms were considered, including logistic regression, decision trees, random forests, and gradient boosting. These models were trained on the preprocessed dataset using a train-test split to evaluate their performance accurately.\n",
        "The final model achieved a commendable accuracy, ensuring that the telecom company can identify potential churners proactively. This predictive model will be invaluable in formulating customer retention strategies, as it accurately identifies customers who are likely to churn. By intervening early and offering personalized incentives or tailored plans, the company can increase customer loyalty and reduce churn rates significantly.\n",
        "Moreover, feature importance analysis shed light on the factors that influence churn the most. For instance, \"Customer service calls\" emerged as a crucial predictor, indicating that addressing customer complaints promptly and efficiently could play a vital role in reducing churn.\n",
        "The project's implementation did not end with model development; it will be deployed in a real-time or batch prediction environment. Regular monitoring and periodic model retraining will be essential to ensure that the model's accuracy and relevance are maintained over time.\n",
        "In conclusion, the telecom churn analysis project proved to be a significant step towards enhancing customer retention strategies. By leveraging data-driven insights and employing a powerful predictive model, the telecom company can reduce churn rates, retain valuable customers, and improve overall business performance. This data-driven approach will strengthen the company's competitive position and foster long-term relationships with customers, leading to sustainable growth and success in the telecommunications industry.\n",
        "\n"
      ],
      "metadata": {
        "id": "F6v_1wHtG2nS"
      }
    },
    {
      "cell_type": "markdown",
      "source": [
        "# **GitHub Link -**"
      ],
      "metadata": {
        "id": "w6K7xa23Elo4"
      }
    },
    {
      "cell_type": "markdown",
      "source": [
        "Provide your GitHub Link here."
      ],
      "metadata": {
        "id": "h1o69JH3Eqqn"
      }
    },
    {
      "cell_type": "markdown",
      "source": [
        "# **Problem Statement**\n"
      ],
      "metadata": {
        "id": "yQaldy8SH6Dl"
      }
    },
    {
      "cell_type": "markdown",
      "source": [
        "Data Collection: Collect and load the telecom churn dataset, provided in CSV format, into the analysis environment.\n",
        "\n",
        "Data Cleaning:\n",
        "\n",
        "Handle Missing Values: Identify and address any missing values in the dataset through imputation or removal.\n",
        "Check for Duplicates: Detect and remove any duplicate records, ensuring data integrity.\n",
        "Data Type Conversion: Ensure appropriate data types for each column to facilitate analysis.\n",
        "Outlier Detection: Identify and decide how to handle outliers that may impact the analysis.\n",
        "\n",
        "Exploratory Data Analysis (EDA):\n",
        "Summary Statistics: Calculate descriptive statistics to understand the distribution of numeric variables.\n",
        "Univariate Analysis: Visualize individual variables to identify their distributions and characteristics.\n",
        "Bivariate Analysis: Explore relationships between pairs of variables to uncover potential correlations.\n",
        "Correlation Analysis: Investigate correlations between numeric variables to understand their dependencies.\n",
        "Churn Distribution: Analyze the proportion of churners (True) and non-churners (False) in the dataset to assess class balance.\n",
        "Feature Importance: Examine the importance of each feature in predicting churn, offering insights for later stages.\n",
        "This is how we complete the churn analysis."
      ],
      "metadata": {
        "id": "DpeJGUA3kjGy"
      }
    },
    {
      "cell_type": "markdown",
      "source": [
        "#### **Define Your Business Objective?**"
      ],
      "metadata": {
        "id": "PH-0ReGfmX4f"
      }
    },
    {
      "cell_type": "markdown",
      "source": [
        "\n",
        "The goal of this project is to analyze the given dataset to identify potential churners among telecom customers. Churn refers to the phenomenon where customers switch to a different telecom service provider or terminate their subscription altogether. By predicting churn, telecom companies can proactively take measures to retain valuable customers and minimize revenue loss."
      ],
      "metadata": {
        "id": "PhDvGCAqmjP1"
      }
    },
    {
      "cell_type": "markdown",
      "source": [
        "# **General Guidelines** : -  "
      ],
      "metadata": {
        "id": "mDgbUHAGgjLW"
      }
    },
    {
      "cell_type": "markdown",
      "source": [
        "1.   Well-structured, formatted, and commented code is required.\n",
        "2.   Exception Handling, Production Grade Code & Deployment Ready Code will be a plus. Those students will be awarded some additional credits.\n",
        "     \n",
        "     The additional credits will have advantages over other students during Star Student selection.\n",
        "       \n",
        "             [ Note: - Deployment Ready Code is defined as, the whole .ipynb notebook should be executable in one go\n",
        "                       without a single error logged. ]\n",
        "\n",
        "3.   Each and every logic should have proper comments.\n",
        "4. You may add as many number of charts you want. Make Sure for each and every chart the following format should be answered.\n",
        "        \n",
        "\n",
        "```\n",
        "# Chart visualization code\n",
        "```\n",
        "            \n",
        "\n",
        "*   Why did you pick the specific chart?\n",
        "*   What is/are the insight(s) found from the chart?\n",
        "* Will the gained insights help creating a positive business impact?\n",
        "Are there any insights that lead to negative growth? Justify with specific reason.\n",
        "\n",
        "5. You have to create at least 20 logical & meaningful charts having important insights.\n",
        "\n",
        "\n",
        "[ Hints : - Do the Vizualization in  a structured way while following \"UBM\" Rule.\n",
        "\n",
        "U - Univariate Analysis,\n",
        "\n",
        "B - Bivariate Analysis (Numerical - Categorical, Numerical - Numerical, Categorical - Categorical)\n",
        "\n",
        "M - Multivariate Analysis\n",
        " ]\n",
        "\n",
        "\n",
        "\n"
      ],
      "metadata": {
        "id": "ZrxVaUj-hHfC"
      }
    },
    {
      "cell_type": "markdown",
      "source": [
        "# ***Let's Begin !***"
      ],
      "metadata": {
        "id": "O_i_v8NEhb9l"
      }
    },
    {
      "cell_type": "markdown",
      "source": [
        "## ***1. Know Your Data***"
      ],
      "metadata": {
        "id": "HhfV-JJviCcP"
      }
    },
    {
      "cell_type": "markdown",
      "source": [
        "### Import Libraries"
      ],
      "metadata": {
        "id": "Y3lxredqlCYt"
      }
    },
    {
      "cell_type": "code",
      "source": [
        "# Import Libraries\n",
        "import pandas as pd\n",
        "import numpy as np\n",
        "import matplotlib.pyplot as plt\n",
        "import seaborn as sns\n"
      ],
      "metadata": {
        "id": "M8Vqi-pPk-HR"
      },
      "execution_count": null,
      "outputs": []
    },
    {
      "cell_type": "markdown",
      "source": [
        "### Dataset Loading"
      ],
      "metadata": {
        "id": "3RnN4peoiCZX"
      }
    },
    {
      "cell_type": "code",
      "source": [
        "# Load Dataset\n",
        "from google.colab import drive\n",
        "drive.mount('/content/drive')\n",
        "\n"
      ],
      "metadata": {
        "id": "4CkvbW_SlZ_R"
      },
      "execution_count": null,
      "outputs": []
    },
    {
      "cell_type": "code",
      "source": [
        "from google.colab import files\n",
        "uploaded=files.upload()"
      ],
      "metadata": {
        "id": "W69KjHTLIAxG"
      },
      "execution_count": null,
      "outputs": []
    },
    {
      "cell_type": "markdown",
      "source": [
        "### Dataset First View"
      ],
      "metadata": {
        "id": "x71ZqKXriCWQ"
      }
    },
    {
      "cell_type": "code",
      "source": [
        "# Dataset First Look\n",
        "import pandas as pd\n",
        "df=pd.read_csv(\"Telecom Churn.csv\")\n",
        "df"
      ],
      "metadata": {
        "id": "LWNFOSvLl09H"
      },
      "execution_count": null,
      "outputs": []
    },
    {
      "cell_type": "markdown",
      "source": [
        "### Dataset Rows & Columns count"
      ],
      "metadata": {
        "id": "7hBIi_osiCS2"
      }
    },
    {
      "cell_type": "code",
      "source": [
        "# Dataset Rows & Columns count\n",
        "# To get the number of rows and columns\n",
        "num_rows, num_columns = df.shape\n",
        "\n",
        "#To print the result\n",
        "print(f\"Number of rows: {num_rows}\")\n",
        "print(f\"Number of columns: {num_columns}\")\n"
      ],
      "metadata": {
        "id": "Kllu7SJgmLij"
      },
      "execution_count": null,
      "outputs": []
    },
    {
      "cell_type": "markdown",
      "source": [
        "### Dataset Information"
      ],
      "metadata": {
        "id": "JlHwYmJAmNHm"
      }
    },
    {
      "cell_type": "code",
      "source": [
        "df.head(5)"
      ],
      "metadata": {
        "id": "zT1IaVgrZ0rK"
      },
      "execution_count": null,
      "outputs": []
    },
    {
      "cell_type": "code",
      "source": [
        "df.tail(5)"
      ],
      "metadata": {
        "id": "enOCXAPVZ_Fy"
      },
      "execution_count": null,
      "outputs": []
    },
    {
      "cell_type": "code",
      "source": [
        "# Dataset Info\n",
        "df.info()"
      ],
      "metadata": {
        "id": "e9hRXRi6meOf"
      },
      "execution_count": null,
      "outputs": []
    },
    {
      "cell_type": "markdown",
      "source": [
        "#### Duplicate Values"
      ],
      "metadata": {
        "id": "35m5QtbWiB9F"
      }
    },
    {
      "cell_type": "code",
      "source": [
        "# Dataset Duplicate Value Count\n",
        "#Count the number of duplicate rows\n",
        "num_duplicates = df.duplicated().sum()\n",
        "\n",
        "print(f\"Number of duplicate : {num_duplicates}\")"
      ],
      "metadata": {
        "id": "1sLdpKYkmox0"
      },
      "execution_count": null,
      "outputs": []
    },
    {
      "cell_type": "markdown",
      "source": [
        "#### Missing Values/Null Values"
      ],
      "metadata": {
        "id": "PoPl-ycgm1ru"
      }
    },
    {
      "cell_type": "code",
      "source": [
        "# Missing Values/Null Values Count\n",
        "# Count the number of missing values in each column\n",
        "missing_values_count = df.isnull().sum()\n",
        "\n",
        "print(\"Missing Values Count:\")\n",
        "print(missing_values_count)\n"
      ],
      "metadata": {
        "id": "GgHWkxvamxVg"
      },
      "execution_count": null,
      "outputs": []
    },
    {
      "cell_type": "code",
      "source": [
        "# Visualizing the missing values\n",
        "import pandas as pd\n",
        "import matplotlib.pyplot as plt\n",
        "\n",
        "# Assuming you already have a DataFrame named df1\n",
        "# Count the number of missing values in each column\n",
        "missing_values_count = df.isnull().sum()\n",
        "\n",
        "# Create a bar graph for missing values\n",
        "plt.figure(figsize=(10, 6))\n",
        "missing_values_count.plot(kind='bar', color='skyblue')\n",
        "plt.title('Missing Values Bar Graph')\n",
        "plt.xlabel('Columns')\n",
        "plt.ylabel('Number of Missing Values')\n",
        "plt.xticks(rotation=45, ha='right')\n",
        "plt.tight_layout()\n",
        "plt.show()\n"
      ],
      "metadata": {
        "id": "3q5wnI3om9sJ"
      },
      "execution_count": null,
      "outputs": []
    },
    {
      "cell_type": "markdown",
      "source": [
        "### What did you know about your dataset?"
      ],
      "metadata": {
        "id": "H0kj-8xxnORC"
      }
    },
    {
      "cell_type": "markdown",
      "source": [
        "The dataset which we have provided has 3333 number of rows and 20 number of columns.\n",
        "till now we have found:\n",
        "\n",
        "count of missing values-0\n",
        "\n",
        "count of duplicate values-0\n",
        "\n",
        "After that we are required some library for analysis and visualisation."
      ],
      "metadata": {
        "id": "gfoNAAC-nUe_"
      }
    },
    {
      "cell_type": "markdown",
      "source": [
        "## ***2. Understanding Your Variables***"
      ],
      "metadata": {
        "id": "nA9Y7ga8ng1Z"
      }
    },
    {
      "cell_type": "code",
      "source": [
        "# Dataset Columns\n",
        "# Get the column names in the DataFrame\n",
        "column_names = df.columns\n",
        "\n",
        "print(\"Column Names in df:\")\n",
        "print(column_names)\n"
      ],
      "metadata": {
        "id": "j7xfkqrt5Ag5"
      },
      "execution_count": null,
      "outputs": []
    },
    {
      "cell_type": "code",
      "source": [
        "# Dataset Describe\n",
        "df.describe(include='all').T"
      ],
      "metadata": {
        "id": "DnOaZdaE5Q5t"
      },
      "execution_count": null,
      "outputs": []
    },
    {
      "cell_type": "code",
      "source": [
        "#Printing the count of true and false  in 'Churn' feature\n",
        "df.Churn.value_counts()"
      ],
      "metadata": {
        "id": "7K1pnOIUchLX"
      },
      "execution_count": null,
      "outputs": []
    },
    {
      "cell_type": "code",
      "source": [
        "# Chart - 2 Statewise customer churning\n",
        "state_customer_churn=df.groupby(['State'])['Churn'].value_counts().reset_index(name='churn_customer')\n",
        "state_customer_churn.sum()\n"
      ],
      "metadata": {
        "id": "NlZ3Au1Dksuk"
      },
      "execution_count": null,
      "outputs": []
    },
    {
      "cell_type": "code",
      "source": [
        "# Chart - 2 Statewise customer churning\n",
        "state_customer_churn=df.groupby(['State'])['Churn'].value_counts().reset_index(name='churn_customer')\n",
        "state_customer_churn"
      ],
      "metadata": {
        "id": "d5lB7JLnkyJ3"
      },
      "execution_count": null,
      "outputs": []
    },
    {
      "cell_type": "markdown",
      "source": [
        "### Variables Description"
      ],
      "metadata": {
        "id": "PBTbrJXOngz2"
      }
    },
    {
      "cell_type": "markdown",
      "source": [
        "State: The state where the customer is located.\n",
        "\n",
        "Account length: The duration of time the customer has been associated with the telecom company (in days).\n",
        "\n",
        "Area code: The area code of the customer's location.\n",
        "\n",
        "International plan: A binary variable indicating whether the customer has an\n",
        "international calling plan (Yes/No).\n",
        "\n",
        "Voice mail plan: A binary variable indicating whether the customer has a voice mail plan (Yes/No).\n",
        "\n",
        "Number vmail messages: The number of voice mail messages the customer has sent or received.\n",
        "\n",
        "Total day minutes: Total number of minutes the customer used the telecom service during the day.\n",
        "\n",
        "Total day calls: Total number of calls made by the customer during the day.\n",
        "\n",
        "Total day charge: Total charges incurred by the customer for day usage.\n",
        "\n",
        "Total eve minutes: Total number of minutes the customer used the telecom service during the evening.\n",
        "\n",
        "Total eve calls: Total number of calls made by the customer during the evening.\n",
        "\n",
        "Total eve charge: Total charges incurred by the customer for evening usage.\n",
        "\n",
        "Total night minutes: Total number of minutes the customer used the telecom service during the night.\n",
        "\n",
        "Total night calls: Total number of calls made by the customer during the night.\n",
        "\n",
        "Total night charge: Total charges incurred by the customer for night usage.\n",
        "\n",
        "Total international minutes: Total number of minutes the customer used for international calls.\n",
        "\n",
        "Total international calls: Total number of international calls made by the customer.\n",
        "\n",
        "Total international charge: Total charges incurred by the customer for international calls.\n",
        "\n",
        "Customer service calls: The number of customer service calls made by the customer.\n",
        "\n",
        "Churn: The target variable indicating whether the customer churned (True/False)"
      ],
      "metadata": {
        "id": "aJV4KIxSnxay"
      }
    },
    {
      "cell_type": "markdown",
      "source": [
        "### Check Unique Values for each variable."
      ],
      "metadata": {
        "id": "u3PMJOP6ngxN"
      }
    },
    {
      "cell_type": "code",
      "source": [
        "# Check Unique Values for each variable.\n",
        "import pandas as pd\n",
        "\n",
        "# Assuming you already have a DataFrame named df1\n",
        "# Loop through each column to check unique values\n",
        "for column_name in df.columns:\n",
        "    unique_values = df[column_name].unique()\n",
        "    print(f\"Unique Values for {column_name}:\")\n",
        "    print(unique_values)\n",
        "    print(\"\\n\")\n",
        "\n"
      ],
      "metadata": {
        "id": "zms12Yq5n-jE"
      },
      "execution_count": null,
      "outputs": []
    },
    {
      "cell_type": "markdown",
      "source": [
        "## 3. ***Data Wrangling***"
      ],
      "metadata": {
        "id": "dauF4eBmngu3"
      }
    },
    {
      "cell_type": "markdown",
      "source": [
        "### Data Wrangling Code"
      ],
      "metadata": {
        "id": "bKJF3rekwFvQ"
      }
    },
    {
      "cell_type": "markdown",
      "source": [
        "Few column are missing so we have to add few columns.like per_min_charge(day),per_min_charge(evening),per_min_charge(night)."
      ],
      "metadata": {
        "id": "GJsRSpCSPr-c"
      }
    },
    {
      "cell_type": "code",
      "source": [
        "# Write your code to make your dataset analysis ready.\n",
        "import pandas as pd\n",
        "\n",
        "# Check if 'Total day minutes' is not zero to avoid division by zero\n",
        "df['per_min_charge(day)'] = df['Total day charge'] / df['Total day minutes'].where(df['Total day minutes'] != 0, 1.0)\n",
        "\n",
        "# Round the result to 2 decimal places\n",
        "df['per_min_charge(day)'] = df['per_min_charge(day)'].round(2)\n",
        "\n",
        "# Check if 'Total day minutes' is not zero to avoid division by zero\n",
        "df['per_min_charge(evening)'] = df['Total eve charge'] / df['Total eve minutes'].where(df['Total eve minutes'] != 0, 1.0)\n",
        "\n",
        "# Check if 'Total day minutes' is not zero to avoid division by zero\n",
        "df['per_min_charge(night)'] = df['Total night charge'] / df['Total night minutes'].where(df['Total night minutes'] != 0, 1.0)\n",
        "\n",
        "# Round the result to 2 decimal places\n",
        "df['per_min_charge(night)'] = df['per_min_charge(night)'].round(2)"
      ],
      "metadata": {
        "id": "wk-9a2fpoLcV"
      },
      "execution_count": null,
      "outputs": []
    },
    {
      "cell_type": "code",
      "source": [
        "df"
      ],
      "metadata": {
        "id": "3N5x9-cZoY_z"
      },
      "execution_count": null,
      "outputs": []
    },
    {
      "cell_type": "markdown",
      "source": [
        "### What all manipulations have you done and insights you found?"
      ],
      "metadata": {
        "id": "MSa1f5Uengrz"
      }
    },
    {
      "cell_type": "markdown",
      "source": [
        "From the above data set we can see that there is no duplicates and there is no missing values in code.\n",
        "From the above data I have added three extra column name as per_min_charge(day),per_min_charge(evening),per_min_charge(night).\n",
        "So after doing such manipulation we have got a fresh dataset."
      ],
      "metadata": {
        "id": "LbyXE7I1olp8"
      }
    },
    {
      "cell_type": "markdown",
      "source": [
        "## ***4. Data Vizualization, Storytelling & Experimenting with charts : Understand the relationships between variables***"
      ],
      "metadata": {
        "id": "GF8Ens_Soomf"
      }
    },
    {
      "cell_type": "markdown",
      "source": [
        "#### Chart - 1"
      ],
      "metadata": {
        "id": "0wOQAZs5pc--"
      }
    },
    {
      "cell_type": "code",
      "source": [
        "# Chart - To get a pie chart to analyze churn percentage\n",
        "df['Churn'].value_counts().plot.pie(explode=[0.05,0.05],autopct='%1.1f%%',startangle=90,figsize=(8,8))\n",
        "plt.title('pie chart for churn')\n",
        "plt.show()\n"
      ],
      "metadata": {
        "id": "7v_ESjsspbW7"
      },
      "execution_count": null,
      "outputs": []
    },
    {
      "cell_type": "markdown",
      "source": [
        "##### 1. Why did you pick the specific chart?"
      ],
      "metadata": {
        "id": "K5QZ13OEpz2H"
      }
    },
    {
      "cell_type": "markdown",
      "source": [
        "To get proper understanding of count (in terms of percentage) of people who churned and who does not."
      ],
      "metadata": {
        "id": "XESiWehPqBRc"
      }
    },
    {
      "cell_type": "markdown",
      "source": [
        "##### 2. What is/are the insight(s) found from the chart?"
      ],
      "metadata": {
        "id": "lQ7QKXXCp7Bj"
      }
    },
    {
      "cell_type": "markdown",
      "source": [
        "we have got True=14.5 that is this percentage of people got churned And False=85.5 percent of people got not churned."
      ],
      "metadata": {
        "id": "C_j1G7yiqdRP"
      }
    },
    {
      "cell_type": "markdown",
      "source": [
        "##### 3. Will the gained insights help creating a positive business impact?\n",
        "Are there any insights that lead to negative growth? Justify with specific reason."
      ],
      "metadata": {
        "id": "448CDAPjqfQr"
      }
    },
    {
      "cell_type": "markdown",
      "source": [
        "while a 14.5% churn rate isn't alarmingly high on its own, its impact on your business can vary depending on your specific circumstances and industry."
      ],
      "metadata": {
        "id": "3cspy4FjqxJW"
      }
    },
    {
      "cell_type": "markdown",
      "source": [
        "#### Chart - 2"
      ],
      "metadata": {
        "id": "KSlN3yHqYklG"
      }
    },
    {
      "cell_type": "code",
      "source": [
        "# Calculate the percentage of churned customers per state\n",
        "churn_percentage = (df[df['Churn'] == True]['State'].value_counts() / df['State'].value_counts()).sort_values(ascending=False) * 100\n",
        "\n",
        "# Create a DataFrame from the churn percentages\n",
        "churn_df = pd.DataFrame({'State': churn_percentage.index, 'Churn Percentage': churn_percentage.values})\n",
        "\n",
        "# Create a bar plot for state-wise customer churning percentages\n",
        "plt.figure(figsize=(13, 14))  # Adjust the figure size as needed\n",
        "sns.set(style=\"darkgrid\")\n",
        "sns.barplot(x='Churn Percentage', y='State', data=churn_df, palette='Set1')\n",
        "\n",
        "# Add labels and title\n",
        "plt.xlabel('Churn Percentage')\n",
        "plt.ylabel('State')\n",
        "plt.title('State-wise Customer Churning Percentage (Descending Order)')\n",
        "\n",
        "# Show the plot\n",
        "plt.show()"
      ],
      "metadata": {
        "id": "Ng71Rp1a5lBm"
      },
      "execution_count": null,
      "outputs": []
    },
    {
      "cell_type": "code",
      "source": [
        "# Chart - 2 Statewise customer churning\n",
        "# Calculate the number of churned customers per state and sort in decreasing order\n",
        "churn_counts = df[df['Churn'] == True]['State'].value_counts().sort_values(ascending=False)\n",
        "\n",
        "# Create a DataFrame from the churn counts\n",
        "churn_df = pd.DataFrame({'State': churn_counts.index, 'Churn Count': churn_counts.values})\n",
        "\n",
        "# Create a count plot for state-wise customer churning\n",
        "plt.figure(figsize=(12, 14))  # Adjust the figure size as needed\n",
        "sns.set(style=\"darkgrid\")\n",
        "sns.barplot(x='Churn Count', y='State', data=churn_df, palette='Set1')\n",
        "\n",
        "# Add labels and title\n",
        "plt.xlabel('Churn Count')\n",
        "plt.ylabel('State')\n",
        "plt.title('State-wise Customer Churning (Descending Order)')\n",
        "\n",
        "# Show the plot\n",
        "plt.show()"
      ],
      "metadata": {
        "id": "Nz3i3m7q3mKE"
      },
      "execution_count": null,
      "outputs": []
    },
    {
      "cell_type": "markdown",
      "source": [
        "##### 1. Why did you pick the specific chart?"
      ],
      "metadata": {
        "id": "t6dVpIINYklI"
      }
    },
    {
      "cell_type": "markdown",
      "source": [
        "Statewise customer churning is required to know in which state most number of people got churned in terms of percentage and counts."
      ],
      "metadata": {
        "id": "5aaW0BYyYklI"
      }
    },
    {
      "cell_type": "markdown",
      "source": [
        "##### 2. What is/are the insight(s) found from the chart?"
      ],
      "metadata": {
        "id": "ijmpgYnKYklI"
      }
    },
    {
      "cell_type": "markdown",
      "source": [
        "From the above insight we have found that\n",
        "**NJ(NEW JERSEY)>TX(TEXAS)>MD(MARYLAND) The above analysis we have got these three state in united state has got most number of people got churned."
      ],
      "metadata": {
        "id": "PSx9atu2YklI"
      }
    },
    {
      "cell_type": "markdown",
      "source": [
        "##### 3. Will the gained insights help creating a positive business impact?\n",
        "Are there any insights that lead to negative growth? Justify with specific reason."
      ],
      "metadata": {
        "id": "-JiQyfWJYklI"
      }
    },
    {
      "cell_type": "markdown",
      "source": [
        "Identifying high customer churn rates in NJ, TX, and MD provides an opportunity for targeted marketing, improved customer service, and product enhancements. However, the potential for positive business impact depends on factors such as market saturation, economic conditions, competition, and addressing customer dissatisfaction. Strategic actions and monitoring outcomes are essential to realizing positive growth."
      ],
      "metadata": {
        "id": "BcBbebzrYklV"
      }
    },
    {
      "cell_type": "markdown",
      "source": [
        "#### Chart - 3"
      ],
      "metadata": {
        "id": "EM7whBJCYoAo"
      }
    },
    {
      "cell_type": "code",
      "source": [
        "# Chart - 3\n",
        "# Creating a count plot for state-wise customer churning\n",
        "plt.figure(figsize=(18, 8))  # Adjust the figure size as needed\n",
        "sns.set(style=\"darkgrid\")\n",
        "sns.countplot(x='State', hue='Churn', data=df, palette='Set1')\n",
        "\n",
        "# Add labels and title\n",
        "plt.xlabel('State')\n",
        "plt.ylabel('Count')\n",
        "plt.title('State-wise Customer Churning')\n",
        "\n",
        "# Show the plot\n",
        "plt.legend(title='Churn', loc='upper right', labels=['False', 'True'])\n",
        "plt.show()"
      ],
      "metadata": {
        "id": "t6GMdE67YoAp"
      },
      "execution_count": null,
      "outputs": []
    },
    {
      "cell_type": "markdown",
      "source": [
        "##### 1. Why did you pick the specific chart?"
      ],
      "metadata": {
        "id": "fge-S5ZAYoAp"
      }
    },
    {
      "cell_type": "markdown",
      "source": [
        "This is statewise churning in which we can see the count of people got churnrd and not churned,This will be helpful to understand the state wise churning.  "
      ],
      "metadata": {
        "id": "5dBItgRVYoAp"
      }
    },
    {
      "cell_type": "markdown",
      "source": [
        "##### 2. What is/are the insight(s) found from the chart?"
      ],
      "metadata": {
        "id": "85gYPyotYoAp"
      }
    },
    {
      "cell_type": "markdown",
      "source": [
        "This visulisation we can compre between churning and not churning in any of the individual state.\n",
        "**WV(WEST VERGINIA) ---we got vast difference between number of people got churned not churned.\n",
        "simillerly we can compare other states also."
      ],
      "metadata": {
        "id": "4jstXR6OYoAp"
      }
    },
    {
      "cell_type": "markdown",
      "source": [
        "##### 3. Will the gained insights help creating a positive business impact?\n",
        "Are there any insights that lead to negative growth? Justify with specific reason."
      ],
      "metadata": {
        "id": "RoGjAbkUYoAp"
      }
    },
    {
      "cell_type": "markdown",
      "source": [
        "\n",
        "Comparing churn and non-churn rates in individual states, like WV, highlights the need for targeted retention strategies. These insights can have a positive impact if regional challenges and customer satisfaction gaps are addressed, but market instability and unresolved issues could lead to negative growth if not managed effectively."
      ],
      "metadata": {
        "id": "zfJ8IqMcYoAp"
      }
    },
    {
      "cell_type": "markdown",
      "source": [
        "#### Chart - 4"
      ],
      "metadata": {
        "id": "4Of9eVA-YrdM"
      }
    },
    {
      "cell_type": "code",
      "source": [
        "# Chart - 4 visualization code for the voice mail plan statewise\n",
        "# Create a bar graph to visualize Number of Voice Mail Messages by State\n",
        "plt.figure(figsize=(12, 12))  # Adjust the figure size as needed\n",
        "sns.set(style=\"darkgrid\")\n",
        "sns.barplot(x='Number vmail messages', y='State', data=df)\n",
        "\n",
        "# Add labels and title\n",
        "plt.xlabel('Number of Voice Mail Messages')\n",
        "plt.ylabel('State')\n",
        "plt.title('Number of Voice Mail Messages by State (Bar Graph)')\n",
        "\n",
        "# Show the plot\n",
        "plt.show()"
      ],
      "metadata": {
        "id": "irlUoxc8YrdO"
      },
      "execution_count": null,
      "outputs": []
    },
    {
      "cell_type": "markdown",
      "source": [
        "##### 1. Why did you pick the specific chart?"
      ],
      "metadata": {
        "id": "iky9q4vBYrdO"
      }
    },
    {
      "cell_type": "markdown",
      "source": [
        "To know about the relationship between state and number of voice mail messages."
      ],
      "metadata": {
        "id": "aJRCwT6DYrdO"
      }
    },
    {
      "cell_type": "markdown",
      "source": [
        "##### 2. What is/are the insight(s) found from the chart?"
      ],
      "metadata": {
        "id": "F6T5p64dYrdO"
      }
    },
    {
      "cell_type": "markdown",
      "source": [
        "this bar graph allows you to quickly compare the number of voice mail messages across different states in your dataset. You can easily identify states with high and low message counts, making it useful for identifying patterns or outliers in voice mail usage among your customer base.\n",
        "\n",
        "\n",
        "\n",
        "\n",
        "\n"
      ],
      "metadata": {
        "id": "Xx8WAJvtYrdO"
      }
    },
    {
      "cell_type": "markdown",
      "source": [
        "##### 3. Will the gained insights help creating a positive business impact?\n",
        "Are there any insights that lead to negative growth? Justify with specific reason."
      ],
      "metadata": {
        "id": "y-Ehk30pYrdP"
      }
    },
    {
      "cell_type": "markdown",
      "source": [
        "To determine the actual impact on business growth, it's essential to consider the specific findings in context and develop strategies accordingly. The insights gained should inform a well-thought-out business strategy that aligns with the goals and resources of the company. Additionally, monitoring the outcomes of implemented strategies and adapting as needed is crucial to achieving a positive business impact.\n",
        "\n",
        "\n",
        "\n",
        "\n",
        "\n"
      ],
      "metadata": {
        "id": "jLNxxz7MYrdP"
      }
    },
    {
      "cell_type": "markdown",
      "source": [
        "#### Chart - 5"
      ],
      "metadata": {
        "id": "bamQiAODYuh1"
      }
    },
    {
      "cell_type": "code",
      "source": [
        "# Chart - 5 visualization code\n",
        "#Barplot for Customer Service Calls by Churn\n",
        "sns.barplot(x='Churn', y='Customer service calls', data=df)\n",
        "plt.show()"
      ],
      "metadata": {
        "id": "TIJwrbroYuh3"
      },
      "execution_count": null,
      "outputs": []
    },
    {
      "cell_type": "markdown",
      "source": [
        "##### 1. Why did you pick the specific chart?"
      ],
      "metadata": {
        "id": "QHF8YVU7Yuh3"
      }
    },
    {
      "cell_type": "markdown",
      "source": [
        "Customer service calls(count) vs Churn ,we have choose this relation to understand properly,So that we can get an idea weather churning depends on customer service calls."
      ],
      "metadata": {
        "id": "dcxuIMRPYuh3"
      }
    },
    {
      "cell_type": "markdown",
      "source": [
        "##### 2. What is/are the insight(s) found from the chart?"
      ],
      "metadata": {
        "id": "GwzvFGzlYuh3"
      }
    },
    {
      "cell_type": "markdown",
      "source": [
        "FROM THE ABOVE GRAPH WE CAN SEE THAT CUSTOMER WHICH GET MORE NUMBER OF CUSTOMER SERVICE CALLS THEY CHURN THERE PROVIDER."
      ],
      "metadata": {
        "id": "uyqkiB8YYuh3"
      }
    },
    {
      "cell_type": "markdown",
      "source": [
        "##### 3. Will the gained insights help creating a positive business impact?\n",
        "Are there any insights that lead to negative growth? Justify with specific reason."
      ],
      "metadata": {
        "id": "qYpmQ266Yuh3"
      }
    },
    {
      "cell_type": "markdown",
      "source": [
        "Telecom orgainisation need to understand that one of the reason is above mention so telecom company must monitor the customer service calls and there count."
      ],
      "metadata": {
        "id": "_WtzZ_hCYuh4"
      }
    },
    {
      "cell_type": "markdown",
      "source": [
        "#### Chart - 6"
      ],
      "metadata": {
        "id": "OH-pJp9IphqM"
      }
    },
    {
      "cell_type": "code",
      "source": [
        "# Chart - 6 visualization code\n",
        "#Distribution of Total Day Minutes\n",
        "sns.histplot(df['Total day minutes'], bins=30, kde=True)\n",
        "plt.xlabel('Total Day Minutes')\n",
        "plt.ylabel('Frequency')\n",
        "plt.title('Distribution of Total Day Minutes')\n",
        "plt.show()"
      ],
      "metadata": {
        "id": "kuRf4wtuphqN"
      },
      "execution_count": null,
      "outputs": []
    },
    {
      "cell_type": "markdown",
      "source": [
        "##### 1. Why did you pick the specific chart?"
      ],
      "metadata": {
        "id": "bbFf2-_FphqN"
      }
    },
    {
      "cell_type": "markdown",
      "source": [
        "This code choice is suitable for exploring and summarizing the \"Total Day Minutes\" variable, which is essential for understanding customer behavior and potentially identifying trends or patterns that may impact your analysis, such as identifying high-usage or low-usage segments of customers."
      ],
      "metadata": {
        "id": "loh7H2nzphqN"
      }
    },
    {
      "cell_type": "markdown",
      "source": [
        "##### 2. What is/are the insight(s) found from the chart?"
      ],
      "metadata": {
        "id": "_ouA3fa0phqN"
      }
    },
    {
      "cell_type": "markdown",
      "source": [
        "At 190-210 minutes frequency of usage is maximum.Similerly at 160 min the frequency is second maximum."
      ],
      "metadata": {
        "id": "VECbqPI7phqN"
      }
    },
    {
      "cell_type": "markdown",
      "source": [
        "##### 3. Will the gained insights help creating a positive business impact?\n",
        "Are there any insights that lead to negative growth? Justify with specific reason."
      ],
      "metadata": {
        "id": "Seke61FWphqN"
      }
    },
    {
      "cell_type": "markdown",
      "source": [
        "From the above graph we can give extra discount in amount charge or we can give some extra minutes."
      ],
      "metadata": {
        "id": "DW4_bGpfphqN"
      }
    },
    {
      "cell_type": "markdown",
      "source": [
        "#### Chart - 7"
      ],
      "metadata": {
        "id": "PIIx-8_IphqN"
      }
    },
    {
      "cell_type": "code",
      "source": [
        "# Chart - 7 visualization code\n",
        "# Create a bar graph to compare Total Evening Minutes by Churn\n",
        "plt.figure(figsize=(6, 6))\n",
        "sns.barplot(x='Churn', y='Total eve minutes', data=df, palette='Set2')\n",
        "\n",
        "# Add labels and title\n",
        "plt.xlabel('Churn')\n",
        "plt.ylabel('Total Evening Minutes')\n",
        "plt.title('Total Evening Minutes by Churn')\n",
        "\n",
        "# Show the plot\n",
        "plt.show()"
      ],
      "metadata": {
        "id": "lqAIGUfyphqO"
      },
      "execution_count": null,
      "outputs": []
    },
    {
      "cell_type": "markdown",
      "source": [
        "##### 1. Why did you pick the specific chart?"
      ],
      "metadata": {
        "id": "t27r6nlMphqO"
      }
    },
    {
      "cell_type": "markdown",
      "source": [
        "This bar graph will allow us to directly compare the \"Total Evening Minutes\" between churned (\"True\") and non-churned (\"False\") customers, making it easier to see if there's a significant difference in evening usage patterns between the two groups."
      ],
      "metadata": {
        "id": "iv6ro40sphqO"
      }
    },
    {
      "cell_type": "markdown",
      "source": [
        "##### 2. What is/are the insight(s) found from the chart?"
      ],
      "metadata": {
        "id": "r2jJGEOYphqO"
      }
    },
    {
      "cell_type": "markdown",
      "source": [
        "From the above graph it is clear that customer which use more than 200 minutes get churned and who use less than 200 is not churning."
      ],
      "metadata": {
        "id": "Po6ZPi4hphqO"
      }
    },
    {
      "cell_type": "markdown",
      "source": [
        "##### 3. Will the gained insights help creating a positive business impact?\n",
        "Are there any insights that lead to negative growth? Justify with specific reason."
      ],
      "metadata": {
        "id": "b0JNsNcRphqO"
      }
    },
    {
      "cell_type": "markdown",
      "source": [
        "From the above it is clear that telecom company need to think about that what is happing that customer who is using more than 200 evening min for that company need to do further analysis."
      ],
      "metadata": {
        "id": "xvSq8iUTphqO"
      }
    },
    {
      "cell_type": "markdown",
      "source": [
        "#### Chart - 8"
      ],
      "metadata": {
        "id": "BZR9WyysphqO"
      }
    },
    {
      "cell_type": "code",
      "source": [
        "# Chart - 8 visualization code\n",
        "# Pie Chart for Voice Mail Plan\n",
        "voice_mail_counts = df['Voice mail plan'].value_counts()\n",
        "plt.pie(voice_mail_counts, labels=voice_mail_counts.index, autopct='%1.1f%%', startangle=90)\n",
        "plt.title('Voice Mail Plan Distribution')\n",
        "plt.show()"
      ],
      "metadata": {
        "id": "TdPTWpAVphqO"
      },
      "execution_count": null,
      "outputs": []
    },
    {
      "cell_type": "markdown",
      "source": [
        "##### 1. Why did you pick the specific chart?"
      ],
      "metadata": {
        "id": "jj7wYXLtphqO"
      }
    },
    {
      "cell_type": "markdown",
      "source": [
        "A pie chart is chosen to visualize the distribution of \"Voice Mail Plan\" because it effectively displays the proportion of customers with and without a plan."
      ],
      "metadata": {
        "id": "Ob8u6rCTphqO"
      }
    },
    {
      "cell_type": "markdown",
      "source": [
        "##### 2. What is/are the insight(s) found from the chart?"
      ],
      "metadata": {
        "id": "eZrbJ2SmphqO"
      }
    },
    {
      "cell_type": "markdown",
      "source": [
        "27.7% customer who opted for the plan got churned and 72.3% people who opted thuis plan did not churned."
      ],
      "metadata": {
        "id": "mZtgC_hjphqO"
      }
    },
    {
      "cell_type": "markdown",
      "source": [
        "##### 3. Will the gained insights help creating a positive business impact?\n",
        "Are there any insights that lead to negative growth? Justify with specific reason."
      ],
      "metadata": {
        "id": "rFu4xreNphqO"
      }
    },
    {
      "cell_type": "markdown",
      "source": [
        "**Positive Business Impact:\n",
        "Understanding that a significant portion of customers with voice mail plans did not churn (72.3%) suggests that these customers might be more engaged or satisfied with the service. The business can focus on retaining this group by offering incentives, personalized services, or loyalty rewards to further reduce churn rates.\n",
        "**Negative Growth or Challenges:\n",
        "While the majority (72.3%) of customers with the voice mail plan did not churn, the fact that 27.7% did churn indicates room for improvement. This insight suggests that there may be underlying issues affecting some customers' satisfaction or experience with the voice mail service."
      ],
      "metadata": {
        "id": "ey_0qi68phqO"
      }
    },
    {
      "cell_type": "markdown",
      "source": [
        "#### Chart - 9"
      ],
      "metadata": {
        "id": "YJ55k-q6phqO"
      }
    },
    {
      "cell_type": "code",
      "source": [
        "# Chart - 9 visualization code\n",
        "# 9. Lineplot for Total Night Calls Over Time\n",
        "sns.lineplot(x='Account length', y='Total night calls', data=df, ci=None)\n",
        "plt.xlabel('Account Length')\n",
        "plt.ylabel('Total Night Calls')\n",
        "plt.title('Total Night Calls Over Time')\n",
        "plt.show()"
      ],
      "metadata": {
        "id": "B2aS4O1ophqO"
      },
      "execution_count": null,
      "outputs": []
    },
    {
      "cell_type": "markdown",
      "source": [
        "##### 1. Why did you pick the specific chart?"
      ],
      "metadata": {
        "id": "gCFgpxoyphqP"
      }
    },
    {
      "cell_type": "markdown",
      "source": [
        "The line plot for \"Total Night Calls Over Time\" visualizes how the average number of night calls changes with increasing \"Account Length.\" It helps identify any trends or patterns in night call behavior as customers' account tenure progresses, aiding in understanding the relationship between these two variables."
      ],
      "metadata": {
        "id": "TVxDimi2phqP"
      }
    },
    {
      "cell_type": "markdown",
      "source": [
        "##### 2. What is/are the insight(s) found from the chart?"
      ],
      "metadata": {
        "id": "OVtJsKN_phqQ"
      }
    },
    {
      "cell_type": "markdown",
      "source": [
        "we can see that total night calls is maximum between 0-30 and account length is maximum between 200 to 230."
      ],
      "metadata": {
        "id": "ngGi97qjphqQ"
      }
    },
    {
      "cell_type": "markdown",
      "source": [
        "##### 3. Will the gained insights help creating a positive business impact?\n",
        "Are there any insights that lead to negative growth? Justify with specific reason."
      ],
      "metadata": {
        "id": "lssrdh5qphqQ"
      }
    },
    {
      "cell_type": "markdown",
      "source": [
        "from above insight it is clear that calls need to be cost friendly between minutes."
      ],
      "metadata": {
        "id": "tBpY5ekJphqQ"
      }
    },
    {
      "cell_type": "markdown",
      "source": [
        "#### Chart - 10"
      ],
      "metadata": {
        "id": "U2RJ9gkRphqQ"
      }
    },
    {
      "cell_type": "code",
      "source": [
        "# Chart - 10 visualization code\n",
        "# Count the number of customers with and without international plans\n",
        "international_plan_counts = df['International plan'].value_counts()\n",
        "\n",
        "# Create a pie chart\n",
        "plt.figure(figsize=(6, 6))\n",
        "plt.pie(international_plan_counts, labels=international_plan_counts.index, autopct='%1.1f%%', startangle=90, colors=['skyblue', 'lightcoral'])\n",
        "plt.title('International Plan Distribution')\n",
        "plt.show()"
      ],
      "metadata": {
        "id": "GM7a4YP4phqQ"
      },
      "execution_count": null,
      "outputs": []
    },
    {
      "cell_type": "markdown",
      "source": [
        "##### 1. Why did you pick the specific chart?"
      ],
      "metadata": {
        "id": "1M8mcRywphqQ"
      }
    },
    {
      "cell_type": "markdown",
      "source": [
        "We Count the number of customers with and without international plans and we can see that 9.7% people got opted and 90.3% people not opted any international plans."
      ],
      "metadata": {
        "id": "8agQvks0phqQ"
      }
    },
    {
      "cell_type": "markdown",
      "source": [
        "##### 2. What is/are the insight(s) found from the chart?"
      ],
      "metadata": {
        "id": "tgIPom80phqQ"
      }
    },
    {
      "cell_type": "markdown",
      "source": [
        "we can see that 9.7% people got opted and 90.3% people not opted any international plans.This will give proper understanding most of the people not depend on the international calls."
      ],
      "metadata": {
        "id": "Qp13pnNzphqQ"
      }
    },
    {
      "cell_type": "markdown",
      "source": [
        "##### 3. Will the gained insights help creating a positive business impact?\n",
        "Are there any insights that lead to negative growth? Justify with specific reason."
      ],
      "metadata": {
        "id": "JMzcOPDDphqR"
      }
    },
    {
      "cell_type": "markdown",
      "source": [
        "From the above insight it is clear telecom company needs to more focus on reagional plan not international plans."
      ],
      "metadata": {
        "id": "R4Ka1PC2phqR"
      }
    },
    {
      "cell_type": "markdown",
      "source": [
        "#### Chart - 11"
      ],
      "metadata": {
        "id": "x-EpHcCOp1ci"
      }
    },
    {
      "cell_type": "code",
      "source": [
        "# Chart - 11 visualization code\n",
        "# Calculate the counts of unique values in the 'Area code' column\n",
        "area_code_counts = df['Area code'].value_counts()\n",
        "\n",
        "# Create a pie chart\n",
        "plt.figure(figsize=(8, 8))\n",
        "plt.pie(area_code_counts, labels=area_code_counts.index, autopct='%1.1f%%', startangle=140)\n",
        "plt.title('Distribution of Area Codes')\n",
        "\n",
        "plt.axis('equal')  # Equal aspect ratio ensures that the pie chart is drawn as a circle.\n",
        "\n",
        "plt.show()"
      ],
      "metadata": {
        "id": "mAQTIvtqp1cj"
      },
      "execution_count": null,
      "outputs": []
    },
    {
      "cell_type": "markdown",
      "source": [
        "##### 1. Why did you pick the specific chart?"
      ],
      "metadata": {
        "id": "X_VqEhTip1ck"
      }
    },
    {
      "cell_type": "markdown",
      "source": [
        "I chose to create a pie chart based on the counts of unique values in a column ('Area code') because pie charts are typically used to show the distribution or composition of different categories within a whole."
      ],
      "metadata": {
        "id": "-vsMzt_np1ck"
      }
    },
    {
      "cell_type": "markdown",
      "source": [
        "##### 2. What is/are the insight(s) found from the chart?"
      ],
      "metadata": {
        "id": "8zGJKyg5p1ck"
      }
    },
    {
      "cell_type": "markdown",
      "source": [
        "Area code 415 contain almost 50% of customer and after that 408,510 have 25% and 25% respectively."
      ],
      "metadata": {
        "id": "ZYdMsrqVp1ck"
      }
    },
    {
      "cell_type": "markdown",
      "source": [
        "##### 3. Will the gained insights help creating a positive business impact?\n",
        "Are there any insights that lead to negative growth? Justify with specific reason."
      ],
      "metadata": {
        "id": "PVzmfK_Ep1ck"
      }
    },
    {
      "cell_type": "markdown",
      "source": [
        "Telecompany should consider most area code 415 and the other 408 and 510.company need to do more analysis to get proper understanding of customer which is at area code 410."
      ],
      "metadata": {
        "id": "druuKYZpp1ck"
      }
    },
    {
      "cell_type": "markdown",
      "source": [
        "#### Chart - 12"
      ],
      "metadata": {
        "id": "n3dbpmDWp1ck"
      }
    },
    {
      "cell_type": "code",
      "source": [
        "# Chart - 12 visualization code\n",
        "# Create a barplot to visualize Total Eve Calls by Churn and International Plan\n",
        "plt.figure(figsize=(11, 6))\n",
        "sns.barplot(x='Churn', y='Total eve calls', hue='International plan', data=df, ci=None, palette='Set3')\n",
        "plt.xlabel('Churn')\n",
        "plt.ylabel('Total Eve Calls')\n",
        "plt.title('Total Eve Calls by Churn and International Plan')\n",
        "plt.show()"
      ],
      "metadata": {
        "id": "bwevp1tKp1ck"
      },
      "execution_count": null,
      "outputs": []
    },
    {
      "cell_type": "markdown",
      "source": [
        "##### 1. Why did you pick the specific chart?"
      ],
      "metadata": {
        "id": "ylSl6qgtp1ck"
      }
    },
    {
      "cell_type": "markdown",
      "source": [
        "This is a barplot to visualize Total Eve Calls by Churn and International Plan."
      ],
      "metadata": {
        "id": "m2xqNkiQp1ck"
      }
    },
    {
      "cell_type": "markdown",
      "source": [
        "##### 2. What is/are the insight(s) found from the chart?"
      ],
      "metadata": {
        "id": "ZWILFDl5p1ck"
      }
    },
    {
      "cell_type": "markdown",
      "source": [
        "From the graph it is clear that international plans doesnot depend on churning because it is not clear from the graph."
      ],
      "metadata": {
        "id": "x-lUsV2mp1ck"
      }
    },
    {
      "cell_type": "markdown",
      "source": [
        "##### 3. Will the gained insights help creating a positive business impact?\n",
        "Are there any insights that lead to negative growth? Justify with specific reason."
      ],
      "metadata": {
        "id": "M7G43BXep1ck"
      }
    },
    {
      "cell_type": "markdown",
      "source": [
        "we have discussed previously about the international plan and churn in this graph we can see international plan does not making people churn."
      ],
      "metadata": {
        "id": "5wwDJXsLp1cl"
      }
    },
    {
      "cell_type": "markdown",
      "source": [
        "#### Chart - 13"
      ],
      "metadata": {
        "id": "Ag9LCva-p1cl"
      }
    },
    {
      "cell_type": "code",
      "source": [
        "# Chart - 13 visualization code\n",
        "#Stacked Barplot for Churn by State\n",
        "state_churn = df.groupby(['State', 'Churn']).size().unstack()\n",
        "state_churn.plot(kind='bar', stacked=True, figsize=(15, 6))\n",
        "plt.xlabel('State')\n",
        "plt.ylabel('Count')\n",
        "plt.title('Churn by State')\n",
        "plt.legend(title='Churn', labels=['No Churn', 'Churn'])\n",
        "plt.show()"
      ],
      "metadata": {
        "id": "EUfxeq9-p1cl"
      },
      "execution_count": null,
      "outputs": []
    },
    {
      "cell_type": "markdown",
      "source": [
        "##### 1. Why did you pick the specific chart?"
      ],
      "metadata": {
        "id": "E6MkPsBcp1cl"
      }
    },
    {
      "cell_type": "markdown",
      "source": [
        "This is Stacked Barplot for Churn by State,with this we have got a proper understanding of statewise chrn and not churn."
      ],
      "metadata": {
        "id": "V22bRsFWp1cl"
      }
    },
    {
      "cell_type": "markdown",
      "source": [
        "##### 2. What is/are the insight(s) found from the chart?"
      ],
      "metadata": {
        "id": "2cELzS2fp1cl"
      }
    },
    {
      "cell_type": "markdown",
      "source": [
        "From above graph it is clear that state AK,IA,NM has least number of churns.similer observation can be done with another states."
      ],
      "metadata": {
        "id": "ozQPc2_Ip1cl"
      }
    },
    {
      "cell_type": "markdown",
      "source": [
        "##### 3. Will the gained insights help creating a positive business impact?\n",
        "Are there any insights that lead to negative growth? Justify with specific reason."
      ],
      "metadata": {
        "id": "3MPXvC8up1cl"
      }
    },
    {
      "cell_type": "markdown",
      "source": [
        "to get a proper understanding of telecom business and the customer statewise so that company would do further research to reduce the churn count."
      ],
      "metadata": {
        "id": "GL8l1tdLp1cl"
      }
    },
    {
      "cell_type": "markdown",
      "source": [
        "#### Chart - 14 - Correlation Heatmap"
      ],
      "metadata": {
        "id": "NC_X3p0fY2L0"
      }
    },
    {
      "cell_type": "code",
      "source": [
        "# Correlation Heatmap visualization code\n",
        "correlation_matrix = df.corr()\n",
        "plt.figure(figsize=(20, 17))\n",
        "sns.heatmap(correlation_matrix, annot=True, cmap='coolwarm')\n",
        "plt.title('Correlation Heatmap')\n",
        "plt.show()"
      ],
      "metadata": {
        "id": "xyC9zolEZNRQ"
      },
      "execution_count": null,
      "outputs": []
    },
    {
      "cell_type": "markdown",
      "source": [
        "##### 1. Why did you pick the specific chart?"
      ],
      "metadata": {
        "id": "UV0SzAkaZNRQ"
      }
    },
    {
      "cell_type": "markdown",
      "source": [
        "A correlation heatmap for this dataset would visualize the relationships between numerical variables. It can help identify patterns and dependencies among variables, providing insights into factors that might influence customer churn."
      ],
      "metadata": {
        "id": "DVPuT8LYZNRQ"
      }
    },
    {
      "cell_type": "markdown",
      "source": [
        "##### 2. What is/are the insight(s) found from the chart?"
      ],
      "metadata": {
        "id": "YPEH6qLeZNRQ"
      }
    },
    {
      "cell_type": "markdown",
      "source": [
        "From above here all the digonal elements are 1,Here we can see\n",
        "*Total day charge and total day minute have positive correlation that is 1.\n",
        "simillerly evening minute and eveninfg charges and so on.we can observe other data also."
      ],
      "metadata": {
        "id": "bfSqtnDqZNRR"
      }
    },
    {
      "cell_type": "markdown",
      "source": [
        "#### Chart - 15 - Pair Plot"
      ],
      "metadata": {
        "id": "q29F0dvdveiT"
      }
    },
    {
      "cell_type": "code",
      "source": [
        "# Pair Plot visualization code\n",
        "#Pairplot\n",
        "sns.pairplot(df, hue='Churn')\n",
        "plt.show()\n"
      ],
      "metadata": {
        "id": "o58-TEIhveiU"
      },
      "execution_count": null,
      "outputs": []
    },
    {
      "cell_type": "markdown",
      "source": [
        "##### 1. Why did you pick the specific chart?"
      ],
      "metadata": {
        "id": "EXh0U9oCveiU"
      }
    },
    {
      "cell_type": "markdown",
      "source": [
        "here pair plot is basically used for proper understanding by correlating each column with each other by visualisation."
      ],
      "metadata": {
        "id": "eMmPjTByveiU"
      }
    },
    {
      "cell_type": "markdown",
      "source": [
        "##### 2. What is/are the insight(s) found from the chart?"
      ],
      "metadata": {
        "id": "22aHeOlLveiV"
      }
    },
    {
      "cell_type": "markdown",
      "source": [
        "The pair plot reveals potential insights in a telecom dataset: higher customer service calls may correlate with churn, and examining usage patterns across day, evening, and night can provide further understanding of customer behavior. Further analysis and modeling may be needed for validation and actionable insights."
      ],
      "metadata": {
        "id": "uPQ8RGwHveiV"
      }
    },
    {
      "cell_type": "markdown",
      "source": [
        "## **5. Solution to Business Objective**"
      ],
      "metadata": {
        "id": "JcMwzZxoAimU"
      }
    },
    {
      "cell_type": "markdown",
      "source": [
        "#### What do you suggest the client to achieve Business Objective ?\n",
        "Explain Briefly."
      ],
      "metadata": {
        "id": "8G2x9gOozGDZ"
      }
    },
    {
      "cell_type": "markdown",
      "source": [
        "**Solution to reduce customer churn**\n",
        "\n",
        "* Enhance the customer service calls quality and and reduce unnecessary servise calls.\n",
        "* Ask for feedback often.\n",
        "* Periodically throw offers to retain customer.\n",
        "* Look at the customers who are facing issues in most churned states.\n",
        "* Give priority to the best customer.\n",
        "* Solve poor connectivity network issues.\n",
        "* Analyze churn when it happens.\n",
        "* Regular server maintainance.\n",
        "* Be competitive."
      ],
      "metadata": {
        "id": "pASKb0qOza21"
      }
    },
    {
      "cell_type": "markdown",
      "source": [
        "# **Conclusion**"
      ],
      "metadata": {
        "id": "gCX9965dhzqZ"
      }
    },
    {
      "cell_type": "markdown",
      "source": [
        "**From the above Analysis we can conclude the following:**\n",
        "\n",
        "*The first conclusion is that only 14%-15% people churned and changed it into some other network operator which is vary less so telecom company should work on retaining the existing customer and try to be competetive so that customer do not change there service provider.\n",
        "\n",
        "*In AK and HI there are least number of people who has connectivity so try to reach that area to increase the reach.\n",
        "\n",
        "*Company should work on the customer sevice ,Because from the data we can say customer who got more that 3 call those customer are churning there can be other reason also so a company need to do further investigation for the root cause.\n",
        "\n",
        "*Area code 415 contain almost 50% of customer so as we discussed previously a telecom company needs to think about not to loose this area,for that customer feedback is realy important.\n",
        "\n",
        "*Correlation heatmap and pairplot really helpful to understand various distribution.\n",
        "\n",
        "\n",
        "***THANKYOU***\n",
        "\n"
      ],
      "metadata": {
        "id": "Fjb1IsQkh3yE"
      }
    },
    {
      "cell_type": "markdown",
      "source": [
        "### ***Hurrah! You have successfully completed your EDA Capstone Project !!!***"
      ],
      "metadata": {
        "id": "gIfDvo9L0UH2"
      }
    }
  ]
}